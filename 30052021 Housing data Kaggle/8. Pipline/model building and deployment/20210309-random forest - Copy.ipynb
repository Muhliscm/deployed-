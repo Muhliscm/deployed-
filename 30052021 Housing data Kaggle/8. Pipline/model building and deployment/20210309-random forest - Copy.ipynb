{
 "cells": [
  {
   "cell_type": "code",
   "execution_count": 1,
   "id": "d752b685",
   "metadata": {},
   "outputs": [],
   "source": [
    "import pandas as pd\n",
    "import numpy as np\n",
    "import matplotlib.pyplot as plt\n",
    "import seaborn as sns"
   ]
  },
  {
   "cell_type": "code",
   "execution_count": 2,
   "id": "162a6595",
   "metadata": {},
   "outputs": [],
   "source": [
    "path = \"C:\\\\Users\\\\cm\\\\Desktop\\\\deployed-\\\\30052021 Housing data Kaggle\\\\8. Pipline\\\\future selection\\\\X_train_notscaled.csv\""
   ]
  },
  {
   "cell_type": "code",
   "execution_count": 3,
   "id": "ac7095d3",
   "metadata": {},
   "outputs": [],
   "source": [
    "X = pd.read_csv(path)"
   ]
  },
  {
   "cell_type": "code",
   "execution_count": 4,
   "id": "86af6a0c",
   "metadata": {
    "scrolled": true
   },
   "outputs": [
    {
     "data": {
      "text/html": [
       "<div>\n",
       "<style scoped>\n",
       "    .dataframe tbody tr th:only-of-type {\n",
       "        vertical-align: middle;\n",
       "    }\n",
       "\n",
       "    .dataframe tbody tr th {\n",
       "        vertical-align: top;\n",
       "    }\n",
       "\n",
       "    .dataframe thead th {\n",
       "        text-align: right;\n",
       "    }\n",
       "</style>\n",
       "<table border=\"1\" class=\"dataframe\">\n",
       "  <thead>\n",
       "    <tr style=\"text-align: right;\">\n",
       "      <th></th>\n",
       "      <th>MSSubClass</th>\n",
       "      <th>LotFrontage</th>\n",
       "      <th>LotArea</th>\n",
       "      <th>Neighborhood</th>\n",
       "      <th>OverallQual</th>\n",
       "      <th>YearBuilt</th>\n",
       "      <th>YearRemodAdd</th>\n",
       "      <th>ExterQual</th>\n",
       "      <th>BsmtQual</th>\n",
       "      <th>TotalBsmtSF</th>\n",
       "      <th>GrLivArea</th>\n",
       "      <th>FullBath</th>\n",
       "      <th>KitchenQual</th>\n",
       "      <th>GarageFinish</th>\n",
       "      <th>GarageCars</th>\n",
       "    </tr>\n",
       "  </thead>\n",
       "  <tbody>\n",
       "    <tr>\n",
       "      <th>0</th>\n",
       "      <td>60</td>\n",
       "      <td>4.174387</td>\n",
       "      <td>9.041922</td>\n",
       "      <td>0.102740</td>\n",
       "      <td>7</td>\n",
       "      <td>2003</td>\n",
       "      <td>2003</td>\n",
       "      <td>0.334247</td>\n",
       "      <td>0.423288</td>\n",
       "      <td>856</td>\n",
       "      <td>7.444249</td>\n",
       "      <td>2</td>\n",
       "      <td>0.401370</td>\n",
       "      <td>0.289041</td>\n",
       "      <td>2</td>\n",
       "    </tr>\n",
       "    <tr>\n",
       "      <th>1</th>\n",
       "      <td>20</td>\n",
       "      <td>4.382027</td>\n",
       "      <td>9.169518</td>\n",
       "      <td>0.007534</td>\n",
       "      <td>6</td>\n",
       "      <td>1976</td>\n",
       "      <td>1976</td>\n",
       "      <td>0.620548</td>\n",
       "      <td>0.423288</td>\n",
       "      <td>1262</td>\n",
       "      <td>7.140453</td>\n",
       "      <td>2</td>\n",
       "      <td>0.503425</td>\n",
       "      <td>0.289041</td>\n",
       "      <td>2</td>\n",
       "    </tr>\n",
       "    <tr>\n",
       "      <th>2</th>\n",
       "      <td>60</td>\n",
       "      <td>4.219508</td>\n",
       "      <td>9.328123</td>\n",
       "      <td>0.102740</td>\n",
       "      <td>7</td>\n",
       "      <td>2001</td>\n",
       "      <td>2002</td>\n",
       "      <td>0.334247</td>\n",
       "      <td>0.423288</td>\n",
       "      <td>920</td>\n",
       "      <td>7.487734</td>\n",
       "      <td>2</td>\n",
       "      <td>0.401370</td>\n",
       "      <td>0.289041</td>\n",
       "      <td>2</td>\n",
       "    </tr>\n",
       "    <tr>\n",
       "      <th>3</th>\n",
       "      <td>70</td>\n",
       "      <td>4.094345</td>\n",
       "      <td>9.164296</td>\n",
       "      <td>0.034932</td>\n",
       "      <td>7</td>\n",
       "      <td>1915</td>\n",
       "      <td>1970</td>\n",
       "      <td>0.620548</td>\n",
       "      <td>0.444521</td>\n",
       "      <td>756</td>\n",
       "      <td>7.448334</td>\n",
       "      <td>1</td>\n",
       "      <td>0.401370</td>\n",
       "      <td>0.414384</td>\n",
       "      <td>3</td>\n",
       "    </tr>\n",
       "    <tr>\n",
       "      <th>4</th>\n",
       "      <td>60</td>\n",
       "      <td>4.430817</td>\n",
       "      <td>9.565214</td>\n",
       "      <td>0.028082</td>\n",
       "      <td>8</td>\n",
       "      <td>2000</td>\n",
       "      <td>2000</td>\n",
       "      <td>0.334247</td>\n",
       "      <td>0.423288</td>\n",
       "      <td>1145</td>\n",
       "      <td>7.695303</td>\n",
       "      <td>2</td>\n",
       "      <td>0.401370</td>\n",
       "      <td>0.289041</td>\n",
       "      <td>3</td>\n",
       "    </tr>\n",
       "  </tbody>\n",
       "</table>\n",
       "</div>"
      ],
      "text/plain": [
       "   MSSubClass  LotFrontage   LotArea  Neighborhood  OverallQual  YearBuilt  \\\n",
       "0          60     4.174387  9.041922      0.102740            7       2003   \n",
       "1          20     4.382027  9.169518      0.007534            6       1976   \n",
       "2          60     4.219508  9.328123      0.102740            7       2001   \n",
       "3          70     4.094345  9.164296      0.034932            7       1915   \n",
       "4          60     4.430817  9.565214      0.028082            8       2000   \n",
       "\n",
       "   YearRemodAdd  ExterQual  BsmtQual  TotalBsmtSF  GrLivArea  FullBath  \\\n",
       "0          2003   0.334247  0.423288          856   7.444249         2   \n",
       "1          1976   0.620548  0.423288         1262   7.140453         2   \n",
       "2          2002   0.334247  0.423288          920   7.487734         2   \n",
       "3          1970   0.620548  0.444521          756   7.448334         1   \n",
       "4          2000   0.334247  0.423288         1145   7.695303         2   \n",
       "\n",
       "   KitchenQual  GarageFinish  GarageCars  \n",
       "0     0.401370      0.289041           2  \n",
       "1     0.503425      0.289041           2  \n",
       "2     0.401370      0.289041           2  \n",
       "3     0.401370      0.414384           3  \n",
       "4     0.401370      0.289041           3  "
      ]
     },
     "execution_count": 4,
     "metadata": {},
     "output_type": "execute_result"
    }
   ],
   "source": [
    "X.head()"
   ]
  },
  {
   "cell_type": "code",
   "execution_count": 5,
   "id": "839130e8",
   "metadata": {},
   "outputs": [
    {
     "data": {
      "text/plain": [
       "(1460, 15)"
      ]
     },
     "execution_count": 5,
     "metadata": {},
     "output_type": "execute_result"
    }
   ],
   "source": [
    "X.shape"
   ]
  },
  {
   "cell_type": "code",
   "execution_count": 6,
   "id": "a50dcc80",
   "metadata": {},
   "outputs": [],
   "source": [
    "ypath = \"C:\\\\Users\\\\cm\\\\Desktop\\\\deployed-\\\\30052021 Housing data Kaggle\\\\8. Pipline\\\\future selection\\\\y_train_notscaled.csv\""
   ]
  },
  {
   "cell_type": "code",
   "execution_count": 7,
   "id": "009a9b9e",
   "metadata": {},
   "outputs": [],
   "source": [
    "y = pd.read_csv(ypath)"
   ]
  },
  {
   "cell_type": "code",
   "execution_count": 8,
   "id": "3fac4a95",
   "metadata": {},
   "outputs": [
    {
     "data": {
      "text/plain": [
       "(1460, 1)"
      ]
     },
     "execution_count": 8,
     "metadata": {},
     "output_type": "execute_result"
    }
   ],
   "source": [
    "y.shape"
   ]
  },
  {
   "cell_type": "code",
   "execution_count": 9,
   "id": "0bde4881",
   "metadata": {},
   "outputs": [
    {
     "data": {
      "text/html": [
       "<div>\n",
       "<style scoped>\n",
       "    .dataframe tbody tr th:only-of-type {\n",
       "        vertical-align: middle;\n",
       "    }\n",
       "\n",
       "    .dataframe tbody tr th {\n",
       "        vertical-align: top;\n",
       "    }\n",
       "\n",
       "    .dataframe thead th {\n",
       "        text-align: right;\n",
       "    }\n",
       "</style>\n",
       "<table border=\"1\" class=\"dataframe\">\n",
       "  <thead>\n",
       "    <tr style=\"text-align: right;\">\n",
       "      <th></th>\n",
       "      <th>SalePrice</th>\n",
       "    </tr>\n",
       "  </thead>\n",
       "  <tbody>\n",
       "    <tr>\n",
       "      <th>0</th>\n",
       "      <td>12.247694</td>\n",
       "    </tr>\n",
       "    <tr>\n",
       "      <th>1</th>\n",
       "      <td>12.109011</td>\n",
       "    </tr>\n",
       "    <tr>\n",
       "      <th>2</th>\n",
       "      <td>12.317167</td>\n",
       "    </tr>\n",
       "    <tr>\n",
       "      <th>3</th>\n",
       "      <td>11.849398</td>\n",
       "    </tr>\n",
       "    <tr>\n",
       "      <th>4</th>\n",
       "      <td>12.429216</td>\n",
       "    </tr>\n",
       "  </tbody>\n",
       "</table>\n",
       "</div>"
      ],
      "text/plain": [
       "   SalePrice\n",
       "0  12.247694\n",
       "1  12.109011\n",
       "2  12.317167\n",
       "3  11.849398\n",
       "4  12.429216"
      ]
     },
     "execution_count": 9,
     "metadata": {},
     "output_type": "execute_result"
    }
   ],
   "source": [
    "y.head()"
   ]
  },
  {
   "cell_type": "code",
   "execution_count": 10,
   "id": "b532696b",
   "metadata": {},
   "outputs": [],
   "source": [
    "# spliting\n",
    "from sklearn.model_selection import train_test_split\n",
    "X_train, X_test, y_train, y_test = train_test_split(X, y, test_size = 0.3, random_state = 0)"
   ]
  },
  {
   "cell_type": "code",
   "execution_count": 11,
   "id": "19bf406e",
   "metadata": {},
   "outputs": [
    {
     "name": "stderr",
     "output_type": "stream",
     "text": [
      "<ipython-input-11-1595f4c9d7f5>:4: DataConversionWarning: A column-vector y was passed when a 1d array was expected. Please change the shape of y to (n_samples,), for example using ravel().\n",
      "  baseModel.fit(X_train, y_train)\n"
     ]
    },
    {
     "data": {
      "text/plain": [
       "RandomForestRegressor(random_state=0)"
      ]
     },
     "execution_count": 11,
     "metadata": {},
     "output_type": "execute_result"
    }
   ],
   "source": [
    "\n",
    "# Training the creating base model on the  dataset\n",
    "from sklearn.ensemble import RandomForestRegressor\n",
    "baseModel = RandomForestRegressor(random_state = 0)\n",
    "baseModel.fit(X_train, y_train)\n"
   ]
  },
  {
   "cell_type": "code",
   "execution_count": 12,
   "id": "a4a7188f",
   "metadata": {},
   "outputs": [],
   "source": [
    "y_pred = baseModel.predict(X_test)"
   ]
  },
  {
   "cell_type": "code",
   "execution_count": 13,
   "id": "9c7e561c",
   "metadata": {},
   "outputs": [],
   "source": [
    "# evaluating base model\n",
    "from sklearn.metrics import r2_score\n",
    "score = r2_score(y_test, y_pred)"
   ]
  },
  {
   "cell_type": "code",
   "execution_count": 14,
   "id": "2810e394",
   "metadata": {},
   "outputs": [
    {
     "data": {
      "text/plain": [
       "0.8736760760623905"
      ]
     },
     "execution_count": 14,
     "metadata": {},
     "output_type": "execute_result"
    }
   ],
   "source": [
    "score"
   ]
  },
  {
   "cell_type": "markdown",
   "id": "d1ca1cb2",
   "metadata": {},
   "source": [
    "base model has an accuracy of 87.3 %"
   ]
  },
  {
   "cell_type": "markdown",
   "id": "b849fad8",
   "metadata": {},
   "source": [
    "**Tuning the model to find best number of trees**"
   ]
  },
  {
   "cell_type": "code",
   "execution_count": 15,
   "id": "bcc43eec",
   "metadata": {},
   "outputs": [
    {
     "name": "stdout",
     "output_type": "stream",
     "text": [
      "{'n_estimators': [200, 400, 600, 800, 1000, 1200, 1400, 1600, 1800, 2000], 'max_features': ['auto', 'sqrt'], 'max_depth': [10, 20, 30, 40, 50, 60, 70, 80, 90, 100, 110, None], 'min_samples_split': [2, 5, 10], 'min_samples_leaf': [1, 2, 4], 'bootstrap': [True, False]}\n"
     ]
    }
   ],
   "source": [
    "from sklearn.model_selection import RandomizedSearchCV\n",
    "# Number of trees in random forest\n",
    "n_estimators = [int(x) for x in np.linspace(start = 200, stop = 2000, num = 10)]\n",
    "# Number of features to consider at every split\n",
    "max_features = ['auto', 'sqrt']\n",
    "# Maximum number of levels in tree\n",
    "max_depth = [int(x) for x in np.linspace(10, 110, num = 11)]\n",
    "max_depth.append(None)\n",
    "# Minimum number of samples required to split a node\n",
    "min_samples_split = [2, 5, 10]\n",
    "# Minimum number of samples required at each leaf node\n",
    "min_samples_leaf = [1, 2, 4]\n",
    "# Method of selecting samples for training each tree\n",
    "bootstrap = [True, False]# Create the random grid\n",
    "random_grid = {'n_estimators': n_estimators,\n",
    "               'max_features': max_features,\n",
    "               'max_depth': max_depth,\n",
    "               'min_samples_split': min_samples_split,\n",
    "               'min_samples_leaf': min_samples_leaf,\n",
    "               'bootstrap': bootstrap}\n",
    "print(random_grid)"
   ]
  },
  {
   "cell_type": "code",
   "execution_count": 16,
   "id": "ea26e07e",
   "metadata": {},
   "outputs": [
    {
     "name": "stdout",
     "output_type": "stream",
     "text": [
      "Fitting 3 folds for each of 100 candidates, totalling 300 fits\n"
     ]
    },
    {
     "name": "stderr",
     "output_type": "stream",
     "text": [
      "C:\\Users\\cm\\anaconda3\\lib\\site-packages\\sklearn\\model_selection\\_search.py:880: DataConversionWarning: A column-vector y was passed when a 1d array was expected. Please change the shape of y to (n_samples,), for example using ravel().\n",
      "  self.best_estimator_.fit(X, y, **fit_params)\n"
     ]
    },
    {
     "data": {
      "text/plain": [
       "RandomizedSearchCV(cv=3, estimator=RandomForestRegressor(), n_iter=100,\n",
       "                   n_jobs=-1,\n",
       "                   param_distributions={'bootstrap': [True, False],\n",
       "                                        'max_depth': [10, 20, 30, 40, 50, 60,\n",
       "                                                      70, 80, 90, 100, 110,\n",
       "                                                      None],\n",
       "                                        'max_features': ['auto', 'sqrt'],\n",
       "                                        'min_samples_leaf': [1, 2, 4],\n",
       "                                        'min_samples_split': [2, 5, 10],\n",
       "                                        'n_estimators': [200, 400, 600, 800,\n",
       "                                                         1000, 1200, 1400, 1600,\n",
       "                                                         1800, 2000]},\n",
       "                   random_state=42, verbose=2)"
      ]
     },
     "execution_count": 16,
     "metadata": {},
     "output_type": "execute_result"
    }
   ],
   "source": [
    "# Use the random grid to search for best hyperparameters\n",
    "# First create the base model to tune\n",
    "rf = RandomForestRegressor()\n",
    "# Random search of parameters, using 3 fold cross validation, \n",
    "# search across 100 different combinations, and use all available cores\n",
    "rf_random = RandomizedSearchCV(estimator = rf, param_distributions = random_grid, n_iter = 100, cv = 3, verbose=2, random_state=42, n_jobs = -1)\n",
    "# Fit the random search model\n",
    "rf_random.fit(X_train, y_train)"
   ]
  },
  {
   "cell_type": "code",
   "execution_count": 17,
   "id": "19debdb5",
   "metadata": {},
   "outputs": [
    {
     "data": {
      "text/plain": [
       "RandomForestRegressor(max_depth=100, max_features='sqrt', min_samples_split=5,\n",
       "                      n_estimators=2000)"
      ]
     },
     "execution_count": 17,
     "metadata": {},
     "output_type": "execute_result"
    }
   ],
   "source": [
    "#Best number of trees\n",
    "rf_random.best_estimator_"
   ]
  },
  {
   "cell_type": "markdown",
   "id": "1ce24760",
   "metadata": {},
   "source": [
    "RandomForestRegressor(max_depth=30, max_features='sqrt', min_samples_split=5,\n",
    "                      n_estimators=400)"
   ]
  },
  {
   "cell_type": "code",
   "execution_count": 18,
   "id": "77074c3c",
   "metadata": {},
   "outputs": [],
   "source": [
    "y_hat = rf_random.predict(X_test)"
   ]
  },
  {
   "cell_type": "code",
   "execution_count": 19,
   "id": "053cf974",
   "metadata": {},
   "outputs": [],
   "source": [
    "score2 = r2_score(y_test, y_hat)"
   ]
  },
  {
   "cell_type": "code",
   "execution_count": 20,
   "id": "300fdcf1",
   "metadata": {},
   "outputs": [
    {
     "data": {
      "text/plain": [
       "0.8838742572998874"
      ]
     },
     "execution_count": 20,
     "metadata": {},
     "output_type": "execute_result"
    }
   ],
   "source": [
    "score2"
   ]
  },
  {
   "cell_type": "code",
   "execution_count": 21,
   "id": "7953bc40",
   "metadata": {},
   "outputs": [
    {
     "name": "stdout",
     "output_type": "stream",
     "text": [
      "Improvement of 1.17%.\n"
     ]
    }
   ],
   "source": [
    "print('Improvement of {:0.2f}%.'.format( 100 * (score2 - score) / score))"
   ]
  },
  {
   "cell_type": "markdown",
   "id": "fa0767fe",
   "metadata": {},
   "source": [
    "Improvement of 1.13%.\n"
   ]
  },
  {
   "cell_type": "markdown",
   "id": "e55778f1",
   "metadata": {},
   "source": [
    "base model has an accuracy of 87.3 %\n",
    "<br>tuned model imporved accuracy to 88.3 %"
   ]
  },
  {
   "cell_type": "markdown",
   "id": "76eb06d6",
   "metadata": {},
   "source": [
    "This model has more accuracy compared to other models"
   ]
  },
  {
   "cell_type": "code",
   "execution_count": 22,
   "id": "0e61ed3e",
   "metadata": {},
   "outputs": [],
   "source": [
    "#savinf models to local disk\n",
    "import pickle"
   ]
  },
  {
   "cell_type": "code",
   "execution_count": 23,
   "id": "5c5f0bce",
   "metadata": {},
   "outputs": [],
   "source": [
    "pickle.dump(rf_random, open(\"model.pkl\", \"wb\"))"
   ]
  },
  {
   "cell_type": "code",
   "execution_count": 26,
   "id": "fa6e21db",
   "metadata": {},
   "outputs": [],
   "source": [
    "model = pickle.load(open(\"model.pkl\", 'rb'))"
   ]
  },
  {
   "cell_type": "code",
   "execution_count": 28,
   "id": "19eba81d",
   "metadata": {},
   "outputs": [
    {
     "data": {
      "text/plain": [
       "RandomizedSearchCV(cv=3, estimator=RandomForestRegressor(), n_iter=100,\n",
       "                   n_jobs=-1,\n",
       "                   param_distributions={'bootstrap': [True, False],\n",
       "                                        'max_depth': [10, 20, 30, 40, 50, 60,\n",
       "                                                      70, 80, 90, 100, 110,\n",
       "                                                      None],\n",
       "                                        'max_features': ['auto', 'sqrt'],\n",
       "                                        'min_samples_leaf': [1, 2, 4],\n",
       "                                        'min_samples_split': [2, 5, 10],\n",
       "                                        'n_estimators': [200, 400, 600, 800,\n",
       "                                                         1000, 1200, 1400, 1600,\n",
       "                                                         1800, 2000]},\n",
       "                   random_state=42, verbose=2)"
      ]
     },
     "execution_count": 28,
     "metadata": {},
     "output_type": "execute_result"
    }
   ],
   "source": [
    "model"
   ]
  },
  {
   "cell_type": "code",
   "execution_count": 29,
   "id": "11614f86",
   "metadata": {},
   "outputs": [
    {
     "name": "stdout",
     "output_type": "stream",
     "text": [
      "[12.35579994 11.80892358 11.69998568 12.25377341 11.41797694 11.64992874\n",
      " 12.38334056 11.65090743 13.05937301 11.97752407 12.25120178 11.9952845\n",
      " 12.32087298 11.69616486 11.728245   11.81526372 12.3347402  11.61926447\n",
      " 11.88776478 12.00044884 11.78742042 11.87193939 11.67531087 12.07055203\n",
      " 12.15559555 12.27916457 12.05208183 11.29277048 12.69990826 11.66914469\n",
      " 11.8827054  12.19117978 11.83255231 12.56990114 12.80008818 12.10043873\n",
      " 12.54946823 11.75407784 12.33359722 12.61710224 12.2339182  11.66275653\n",
      " 12.14683161 12.66585799 12.73979172 11.86747988 11.73089658 11.73493701\n",
      " 12.05224112 11.48948043 12.85149713 11.90067151 12.03718091 11.31988213\n",
      " 12.29338931 11.70921164 11.77646175 12.39572535 11.85240421 11.5086541\n",
      " 11.88872588 11.7916518  11.88919869 11.94567668 12.16805212 11.94921912\n",
      " 11.80809175 12.30715971 11.70784978 12.20452387 12.08329962 11.63231028\n",
      " 11.46764621 12.27135682 11.59608973 12.50007251 11.77603865 11.56622814\n",
      " 12.49284358 11.95644358 11.77797204 11.7430825  11.66046393 11.8631383\n",
      " 12.18620141 12.16024897 11.52578699 12.19551421 12.1172978  11.82060793\n",
      " 12.16949723 12.11662411 12.10514372 12.33222381 12.24531097 11.90446767\n",
      " 12.22365696 12.04039588 11.71214427 11.87538308 12.35987989 12.25356415\n",
      " 11.66922728 11.9309108  11.57535721 12.55638995 11.93417395 11.46046572\n",
      " 12.08382728 11.6102382  11.44845848 11.69153633 12.15730027 11.64700829\n",
      " 12.0330924  11.9289001  12.95978622 11.78081893 12.10070873 12.42320288\n",
      " 11.8198435  12.01983642 11.81302921 12.13994776 12.29041822 12.36567629\n",
      " 12.920643   12.16383936 12.11523414 12.07493635 12.16414189 12.23713472\n",
      " 11.78895095 12.15046919 11.6445199  12.41607835 11.82486863 12.09644623\n",
      " 11.67870489 12.10221664 11.9199264  11.8158824  12.28410732 11.90160818\n",
      " 11.82476227 12.09652484 12.37557925 11.87256801 12.60230016 12.29157333\n",
      " 12.01958584 12.68851281 12.58344416 11.87104584 11.95998596 12.42756801\n",
      " 11.63403177 12.1302119  11.62978533 12.07843086 11.7106394  11.9105361\n",
      " 12.16330755 11.71607623 12.40880073 11.78641356 11.94675933 12.58783886\n",
      " 12.1743443  12.11041204 11.99666749 11.98666905 12.09736223 12.00256078\n",
      " 11.85442484 11.72656308 11.8343526  12.25842795 11.57384393 11.91545409\n",
      " 12.47915985 12.23211435 11.49093201 12.63192852 11.64038136 12.05713826\n",
      " 11.39750935 12.17414884 12.24946848 11.8483087  11.85568834 11.93005534\n",
      " 12.28014934 11.83267983 11.65555743 11.81827206 11.34906151 11.74734248\n",
      " 11.98237229 11.71074821 11.83303531 12.17868781 11.57379013 11.71581308\n",
      " 11.81000408 12.00157168 11.89894722 12.65110656 12.48757784 11.12638067\n",
      " 11.93424363 12.41574947 11.45351583 11.36730626 12.6527351  12.21948604\n",
      " 12.08963108 12.44170885 12.45504093 11.29348932 12.12497934 11.99632208\n",
      " 11.75915339 11.71014895 12.14453156 12.40565313 12.46324817 12.31433749\n",
      " 11.79696578 12.04349354 11.46819559 11.8802377  11.56230215 11.86982709\n",
      " 12.36317835 11.68071925 11.8251247  11.71840762 11.45366878 12.03343773\n",
      " 11.58576402 12.16319176 12.28579948 12.25930344 12.02352786 12.09679141\n",
      " 12.16919413 12.14677605 11.73774808 12.16530562 12.01042392 12.45848125\n",
      " 11.3755633  12.90095004 12.29109705 12.36967584 11.47524188 12.24472714\n",
      " 12.83282006 12.62143762 12.15603765 11.67951248 11.8681334  11.54930174\n",
      " 12.938706   12.70422766 12.56261175 11.23487755 12.26304083 12.49857953\n",
      " 11.79916881 12.25027115 11.85435172 12.13966117 11.70634827 12.34707744\n",
      " 12.28928509 12.08869694 12.30294653 11.45460037 11.77234161 12.83829315\n",
      " 11.85960727 11.779357   12.18847643 11.99401715 11.57735147 12.44345712\n",
      " 12.93594501 11.8894548  11.04224642 11.53341407 12.69976721 11.66206212\n",
      " 11.76727491 12.50016563 12.40666736 12.13174637 11.95990907 11.99896962\n",
      " 11.36839149 11.67557358 12.13276705 12.1045891  11.93817743 11.9218303\n",
      " 11.83828527 12.06977285 12.09768221 12.10874861 11.55169434 11.97387249\n",
      " 11.92655263 11.58266411 11.77368543 11.87130237 12.59497491 11.62217466\n",
      " 12.14944505 11.93412149 11.57124186 12.43028489 11.54029042 12.3193738\n",
      " 11.8686709  12.32802848 11.78348776 12.7790401  12.18826612 11.83182121\n",
      " 11.74105135 12.33192955 11.93078156 12.15878107 12.04545778 11.92347071\n",
      " 11.78464151 12.14598593 11.7942658  11.79365454 12.64118895 11.96959278\n",
      " 11.91186693 12.29798836 12.01731106 11.83943531 11.58329027 11.54979088\n",
      " 11.49527717 11.80255833 12.24635727 12.75864857 11.72547941 11.57235732\n",
      " 12.07094572 12.91986748 12.64686039 11.81704014 12.38228804 12.37687129\n",
      " 12.59861564 12.15341995 12.25314782 12.48713538 11.34483723 11.82305653\n",
      " 12.07847543 11.5785596  12.14660322 11.99472532 12.90195642 11.57350768\n",
      " 11.8214028  11.84946191 11.81582692 11.26456622 12.18174236 12.47870476\n",
      " 11.67807462 12.38656765 11.96021345 11.48565881 11.83013161 11.67144012\n",
      " 11.68378459 11.40383262 11.86557322 12.15136644 12.38703337 12.87396957\n",
      " 11.63345611 11.72188666 12.13014113 11.29519761 11.85056471 12.04983219\n",
      " 12.04015824 12.10353069 11.85244496 12.06206668 12.77110204 12.39101006\n",
      " 11.90348888 11.44417521 11.85711613 12.53890336 11.61199388 12.52007077\n",
      " 12.41146661 12.39019701 11.88896156 11.76788746 12.21865291 11.75025485\n",
      " 11.88598667 11.74564373 12.28198878 11.51980489 12.44806904 11.71458622\n",
      " 12.44624296 12.7436689  11.68226988 11.88912618 11.83242792 11.62768798\n",
      " 12.31887303 11.71273249 12.24054934 11.80800687 11.85385744 12.27711298\n",
      " 11.91009035 12.15080421 11.9685391  12.66974685 12.286016   12.96300689]\n"
     ]
    }
   ],
   "source": [
    "print(model.predict(X_test))"
   ]
  },
  {
   "cell_type": "code",
   "execution_count": null,
   "id": "0613bf07",
   "metadata": {},
   "outputs": [],
   "source": []
  }
 ],
 "metadata": {
  "kernelspec": {
   "display_name": "Python 3",
   "language": "python",
   "name": "python3"
  },
  "language_info": {
   "codemirror_mode": {
    "name": "ipython",
    "version": 3
   },
   "file_extension": ".py",
   "mimetype": "text/x-python",
   "name": "python",
   "nbconvert_exporter": "python",
   "pygments_lexer": "ipython3",
   "version": "3.8.8"
  }
 },
 "nbformat": 4,
 "nbformat_minor": 5
}
