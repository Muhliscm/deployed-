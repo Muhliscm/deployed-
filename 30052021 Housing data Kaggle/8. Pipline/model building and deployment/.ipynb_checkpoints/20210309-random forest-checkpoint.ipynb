{
 "cells": [
  {
   "cell_type": "code",
   "execution_count": 1,
   "id": "d752b685",
   "metadata": {},
   "outputs": [],
   "source": [
    "import pandas as pd\n",
    "import numpy as np\n",
    "import matplotlib.pyplot as plt\n",
    "import seaborn as sns"
   ]
  },
  {
   "cell_type": "code",
   "execution_count": 2,
   "id": "162a6595",
   "metadata": {},
   "outputs": [],
   "source": [
    "path = \"C:\\\\Users\\\\cm\\\\Desktop\\\\deployed-\\\\30052021 Housing data Kaggle\\\\8. Pipline\\\\future selection\\\\X_train_notscaled.csv\""
   ]
  },
  {
   "cell_type": "code",
   "execution_count": 3,
   "id": "ac7095d3",
   "metadata": {},
   "outputs": [],
   "source": [
    "X = pd.read_csv(path)"
   ]
  },
  {
   "cell_type": "code",
   "execution_count": 4,
   "id": "86af6a0c",
   "metadata": {
    "scrolled": true
   },
   "outputs": [
    {
     "data": {
      "text/html": [
       "<div>\n",
       "<style scoped>\n",
       "    .dataframe tbody tr th:only-of-type {\n",
       "        vertical-align: middle;\n",
       "    }\n",
       "\n",
       "    .dataframe tbody tr th {\n",
       "        vertical-align: top;\n",
       "    }\n",
       "\n",
       "    .dataframe thead th {\n",
       "        text-align: right;\n",
       "    }\n",
       "</style>\n",
       "<table border=\"1\" class=\"dataframe\">\n",
       "  <thead>\n",
       "    <tr style=\"text-align: right;\">\n",
       "      <th></th>\n",
       "      <th>MSSubClass</th>\n",
       "      <th>LotFrontage</th>\n",
       "      <th>LotArea</th>\n",
       "      <th>Neighborhood</th>\n",
       "      <th>OverallQual</th>\n",
       "      <th>YearBuilt</th>\n",
       "      <th>YearRemodAdd</th>\n",
       "      <th>ExterQual</th>\n",
       "      <th>BsmtQual</th>\n",
       "      <th>TotalBsmtSF</th>\n",
       "      <th>GrLivArea</th>\n",
       "      <th>FullBath</th>\n",
       "      <th>KitchenQual</th>\n",
       "      <th>GarageFinish</th>\n",
       "      <th>GarageCars</th>\n",
       "    </tr>\n",
       "  </thead>\n",
       "  <tbody>\n",
       "    <tr>\n",
       "      <th>0</th>\n",
       "      <td>60</td>\n",
       "      <td>4.174387</td>\n",
       "      <td>9.041922</td>\n",
       "      <td>0.102740</td>\n",
       "      <td>7</td>\n",
       "      <td>2003</td>\n",
       "      <td>2003</td>\n",
       "      <td>0.334247</td>\n",
       "      <td>0.423288</td>\n",
       "      <td>856</td>\n",
       "      <td>7.444249</td>\n",
       "      <td>2</td>\n",
       "      <td>0.401370</td>\n",
       "      <td>0.289041</td>\n",
       "      <td>2</td>\n",
       "    </tr>\n",
       "    <tr>\n",
       "      <th>1</th>\n",
       "      <td>20</td>\n",
       "      <td>4.382027</td>\n",
       "      <td>9.169518</td>\n",
       "      <td>0.007534</td>\n",
       "      <td>6</td>\n",
       "      <td>1976</td>\n",
       "      <td>1976</td>\n",
       "      <td>0.620548</td>\n",
       "      <td>0.423288</td>\n",
       "      <td>1262</td>\n",
       "      <td>7.140453</td>\n",
       "      <td>2</td>\n",
       "      <td>0.503425</td>\n",
       "      <td>0.289041</td>\n",
       "      <td>2</td>\n",
       "    </tr>\n",
       "    <tr>\n",
       "      <th>2</th>\n",
       "      <td>60</td>\n",
       "      <td>4.219508</td>\n",
       "      <td>9.328123</td>\n",
       "      <td>0.102740</td>\n",
       "      <td>7</td>\n",
       "      <td>2001</td>\n",
       "      <td>2002</td>\n",
       "      <td>0.334247</td>\n",
       "      <td>0.423288</td>\n",
       "      <td>920</td>\n",
       "      <td>7.487734</td>\n",
       "      <td>2</td>\n",
       "      <td>0.401370</td>\n",
       "      <td>0.289041</td>\n",
       "      <td>2</td>\n",
       "    </tr>\n",
       "    <tr>\n",
       "      <th>3</th>\n",
       "      <td>70</td>\n",
       "      <td>4.094345</td>\n",
       "      <td>9.164296</td>\n",
       "      <td>0.034932</td>\n",
       "      <td>7</td>\n",
       "      <td>1915</td>\n",
       "      <td>1970</td>\n",
       "      <td>0.620548</td>\n",
       "      <td>0.444521</td>\n",
       "      <td>756</td>\n",
       "      <td>7.448334</td>\n",
       "      <td>1</td>\n",
       "      <td>0.401370</td>\n",
       "      <td>0.414384</td>\n",
       "      <td>3</td>\n",
       "    </tr>\n",
       "    <tr>\n",
       "      <th>4</th>\n",
       "      <td>60</td>\n",
       "      <td>4.430817</td>\n",
       "      <td>9.565214</td>\n",
       "      <td>0.028082</td>\n",
       "      <td>8</td>\n",
       "      <td>2000</td>\n",
       "      <td>2000</td>\n",
       "      <td>0.334247</td>\n",
       "      <td>0.423288</td>\n",
       "      <td>1145</td>\n",
       "      <td>7.695303</td>\n",
       "      <td>2</td>\n",
       "      <td>0.401370</td>\n",
       "      <td>0.289041</td>\n",
       "      <td>3</td>\n",
       "    </tr>\n",
       "  </tbody>\n",
       "</table>\n",
       "</div>"
      ],
      "text/plain": [
       "   MSSubClass  LotFrontage   LotArea  Neighborhood  OverallQual  YearBuilt  \\\n",
       "0          60     4.174387  9.041922      0.102740            7       2003   \n",
       "1          20     4.382027  9.169518      0.007534            6       1976   \n",
       "2          60     4.219508  9.328123      0.102740            7       2001   \n",
       "3          70     4.094345  9.164296      0.034932            7       1915   \n",
       "4          60     4.430817  9.565214      0.028082            8       2000   \n",
       "\n",
       "   YearRemodAdd  ExterQual  BsmtQual  TotalBsmtSF  GrLivArea  FullBath  \\\n",
       "0          2003   0.334247  0.423288          856   7.444249         2   \n",
       "1          1976   0.620548  0.423288         1262   7.140453         2   \n",
       "2          2002   0.334247  0.423288          920   7.487734         2   \n",
       "3          1970   0.620548  0.444521          756   7.448334         1   \n",
       "4          2000   0.334247  0.423288         1145   7.695303         2   \n",
       "\n",
       "   KitchenQual  GarageFinish  GarageCars  \n",
       "0     0.401370      0.289041           2  \n",
       "1     0.503425      0.289041           2  \n",
       "2     0.401370      0.289041           2  \n",
       "3     0.401370      0.414384           3  \n",
       "4     0.401370      0.289041           3  "
      ]
     },
     "execution_count": 4,
     "metadata": {},
     "output_type": "execute_result"
    }
   ],
   "source": [
    "X.head()"
   ]
  },
  {
   "cell_type": "code",
   "execution_count": 5,
   "id": "839130e8",
   "metadata": {},
   "outputs": [
    {
     "data": {
      "text/plain": [
       "(1460, 15)"
      ]
     },
     "execution_count": 5,
     "metadata": {},
     "output_type": "execute_result"
    }
   ],
   "source": [
    "X.shape"
   ]
  },
  {
   "cell_type": "code",
   "execution_count": 7,
   "id": "a50dcc80",
   "metadata": {},
   "outputs": [],
   "source": [
    "ypath = \"C:\\\\Users\\\\cm\\\\Desktop\\\\deployed-\\\\30052021 Housing data Kaggle\\\\8. Pipline\\\\future selection\\\\y_train_notscaled.csv\""
   ]
  },
  {
   "cell_type": "code",
   "execution_count": 8,
   "id": "009a9b9e",
   "metadata": {},
   "outputs": [],
   "source": [
    "y = pd.read_csv(ypath)"
   ]
  },
  {
   "cell_type": "code",
   "execution_count": 9,
   "id": "3fac4a95",
   "metadata": {},
   "outputs": [
    {
     "data": {
      "text/plain": [
       "(1460, 1)"
      ]
     },
     "execution_count": 9,
     "metadata": {},
     "output_type": "execute_result"
    }
   ],
   "source": [
    "y.shape"
   ]
  },
  {
   "cell_type": "code",
   "execution_count": 10,
   "id": "0bde4881",
   "metadata": {},
   "outputs": [
    {
     "data": {
      "text/html": [
       "<div>\n",
       "<style scoped>\n",
       "    .dataframe tbody tr th:only-of-type {\n",
       "        vertical-align: middle;\n",
       "    }\n",
       "\n",
       "    .dataframe tbody tr th {\n",
       "        vertical-align: top;\n",
       "    }\n",
       "\n",
       "    .dataframe thead th {\n",
       "        text-align: right;\n",
       "    }\n",
       "</style>\n",
       "<table border=\"1\" class=\"dataframe\">\n",
       "  <thead>\n",
       "    <tr style=\"text-align: right;\">\n",
       "      <th></th>\n",
       "      <th>SalePrice</th>\n",
       "    </tr>\n",
       "  </thead>\n",
       "  <tbody>\n",
       "    <tr>\n",
       "      <th>0</th>\n",
       "      <td>12.247694</td>\n",
       "    </tr>\n",
       "    <tr>\n",
       "      <th>1</th>\n",
       "      <td>12.109011</td>\n",
       "    </tr>\n",
       "    <tr>\n",
       "      <th>2</th>\n",
       "      <td>12.317167</td>\n",
       "    </tr>\n",
       "    <tr>\n",
       "      <th>3</th>\n",
       "      <td>11.849398</td>\n",
       "    </tr>\n",
       "    <tr>\n",
       "      <th>4</th>\n",
       "      <td>12.429216</td>\n",
       "    </tr>\n",
       "  </tbody>\n",
       "</table>\n",
       "</div>"
      ],
      "text/plain": [
       "   SalePrice\n",
       "0  12.247694\n",
       "1  12.109011\n",
       "2  12.317167\n",
       "3  11.849398\n",
       "4  12.429216"
      ]
     },
     "execution_count": 10,
     "metadata": {},
     "output_type": "execute_result"
    }
   ],
   "source": [
    "y.head()"
   ]
  },
  {
   "cell_type": "code",
   "execution_count": 11,
   "id": "b532696b",
   "metadata": {},
   "outputs": [],
   "source": [
    "# spliting\n",
    "from sklearn.model_selection import train_test_split\n",
    "X_train, X_test, y_train, y_test = train_test_split(X, y, test_size = 0.3, random_state = 0)"
   ]
  },
  {
   "cell_type": "code",
   "execution_count": 13,
   "id": "19bf406e",
   "metadata": {},
   "outputs": [
    {
     "data": {
      "text/plain": [
       "DecisionTreeRegressor(random_state=0)"
      ]
     },
     "execution_count": 13,
     "metadata": {},
     "output_type": "execute_result"
    }
   ],
   "source": [
    "\n",
    "# Training the tree regression model on the  dataset\n",
    "from sklearn.tree import DecisionTreeRegressor\n",
    "regressor = DecisionTreeRegressor(random_state = 0)\n",
    "regressor.fit(X_train, y_train)\n"
   ]
  },
  {
   "cell_type": "code",
   "execution_count": 14,
   "id": "a4a7188f",
   "metadata": {},
   "outputs": [],
   "source": [
    "y_pred = regressor.predict(X_test)"
   ]
  },
  {
   "cell_type": "code",
   "execution_count": 15,
   "id": "9c7e561c",
   "metadata": {},
   "outputs": [],
   "source": [
    "# evaluating model\n",
    "from sklearn.metrics import r2_score\n",
    "score = r2_score(y_test, y_pred)"
   ]
  },
  {
   "cell_type": "code",
   "execution_count": 16,
   "id": "2810e394",
   "metadata": {},
   "outputs": [
    {
     "data": {
      "text/plain": [
       "0.7051850284966619"
      ]
     },
     "execution_count": 16,
     "metadata": {},
     "output_type": "execute_result"
    }
   ],
   "source": [
    "score"
   ]
  },
  {
   "cell_type": "markdown",
   "id": "d1ca1cb2",
   "metadata": {},
   "source": [
    "This model has an accuracy of 70.5 %"
   ]
  }
 ],
 "metadata": {
  "kernelspec": {
   "display_name": "Python 3",
   "language": "python",
   "name": "python3"
  },
  "language_info": {
   "codemirror_mode": {
    "name": "ipython",
    "version": 3
   },
   "file_extension": ".py",
   "mimetype": "text/x-python",
   "name": "python",
   "nbconvert_exporter": "python",
   "pygments_lexer": "ipython3",
   "version": "3.8.8"
  }
 },
 "nbformat": 4,
 "nbformat_minor": 5
}
