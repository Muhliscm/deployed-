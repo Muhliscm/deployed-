{
 "cells": [
  {
   "cell_type": "code",
   "execution_count": 19,
   "id": "d752b685",
   "metadata": {},
   "outputs": [],
   "source": [
    "import pandas as pd\n",
    "import numpy as np\n",
    "import matplotlib.pyplot as plt\n",
    "import seaborn as sns"
   ]
  },
  {
   "cell_type": "code",
   "execution_count": null,
   "id": "162a6595",
   "metadata": {},
   "outputs": [],
   "source": [
    "path = \"C:\\\\Users\\\\cm\\\\Desktop\\\\deployed-\\\\30052021 Housing data Kaggle\\\\8. Pipline\\\\future selection\\\\X_train_notscaled.csv\""
   ]
  },
  {
   "cell_type": "code",
   "execution_count": null,
   "id": "ac7095d3",
   "metadata": {},
   "outputs": [],
   "source": [
    "X = pd.read_csv(path)"
   ]
  },
  {
   "cell_type": "code",
   "execution_count": null,
   "id": "86af6a0c",
   "metadata": {
    "scrolled": true
   },
   "outputs": [],
   "source": [
    "X.head()"
   ]
  },
  {
   "cell_type": "code",
   "execution_count": null,
   "id": "839130e8",
   "metadata": {},
   "outputs": [],
   "source": [
    "X.shape"
   ]
  },
  {
   "cell_type": "code",
   "execution_count": null,
   "id": "a50dcc80",
   "metadata": {},
   "outputs": [],
   "source": [
    "ypath = \"C:\\\\Users\\\\cm\\\\Desktop\\\\deployed-\\\\30052021 Housing data Kaggle\\\\8. Pipline\\\\future selection\\\\y_train_notscaled.csv\""
   ]
  },
  {
   "cell_type": "code",
   "execution_count": null,
   "id": "009a9b9e",
   "metadata": {},
   "outputs": [],
   "source": [
    "y = pd.read_csv(ypath)"
   ]
  },
  {
   "cell_type": "code",
   "execution_count": null,
   "id": "3fac4a95",
   "metadata": {},
   "outputs": [],
   "source": [
    "y.shape"
   ]
  },
  {
   "cell_type": "code",
   "execution_count": null,
   "id": "0bde4881",
   "metadata": {},
   "outputs": [],
   "source": [
    "y.head()"
   ]
  },
  {
   "cell_type": "code",
   "execution_count": null,
   "id": "b532696b",
   "metadata": {},
   "outputs": [],
   "source": [
    "# spliting\n",
    "from sklearn.model_selection import train_test_split\n",
    "X_train, X_test, y_train, y_test = train_test_split(X, y, test_size = 0.3, random_state = 0)"
   ]
  },
  {
   "cell_type": "code",
   "execution_count": null,
   "id": "19bf406e",
   "metadata": {},
   "outputs": [],
   "source": [
    "\n",
    "# Training the creating base model on the  dataset\n",
    "from sklearn.ensemble import RandomForestRegressor\n",
    "baseModel = RandomForestRegressor(random_state = 0)\n",
    "baseModel.fit(X_train, y_train)\n"
   ]
  },
  {
   "cell_type": "code",
   "execution_count": null,
   "id": "a4a7188f",
   "metadata": {},
   "outputs": [],
   "source": [
    "y_pred = baseModel.predict(X_test)"
   ]
  },
  {
   "cell_type": "code",
   "execution_count": null,
   "id": "9c7e561c",
   "metadata": {},
   "outputs": [],
   "source": [
    "# evaluating base model\n",
    "from sklearn.metrics import r2_score\n",
    "score = r2_score(y_test, y_pred)"
   ]
  },
  {
   "cell_type": "code",
   "execution_count": null,
   "id": "2810e394",
   "metadata": {},
   "outputs": [],
   "source": [
    "score"
   ]
  },
  {
   "cell_type": "markdown",
   "id": "d1ca1cb2",
   "metadata": {},
   "source": [
    "base model has an accuracy of 87.3 %"
   ]
  },
  {
   "cell_type": "markdown",
   "id": "b849fad8",
   "metadata": {},
   "source": [
    "**Tuning the model to find best number of trees**"
   ]
  },
  {
   "cell_type": "code",
   "execution_count": null,
   "id": "bcc43eec",
   "metadata": {},
   "outputs": [],
   "source": [
    "from sklearn.model_selection import RandomizedSearchCV\n",
    "# Number of trees in random forest\n",
    "n_estimators = [int(x) for x in np.linspace(start = 200, stop = 2000, num = 10)]\n",
    "# Number of features to consider at every split\n",
    "max_features = ['auto', 'sqrt']\n",
    "# Maximum number of levels in tree\n",
    "max_depth = [int(x) for x in np.linspace(10, 110, num = 11)]\n",
    "max_depth.append(None)\n",
    "# Minimum number of samples required to split a node\n",
    "min_samples_split = [2, 5, 10]\n",
    "# Minimum number of samples required at each leaf node\n",
    "min_samples_leaf = [1, 2, 4]\n",
    "# Method of selecting samples for training each tree\n",
    "bootstrap = [True, False]# Create the random grid\n",
    "random_grid = {'n_estimators': n_estimators,\n",
    "               'max_features': max_features,\n",
    "               'max_depth': max_depth,\n",
    "               'min_samples_split': min_samples_split,\n",
    "               'min_samples_leaf': min_samples_leaf,\n",
    "               'bootstrap': bootstrap}\n",
    "print(random_grid)"
   ]
  },
  {
   "cell_type": "code",
   "execution_count": null,
   "id": "ea26e07e",
   "metadata": {},
   "outputs": [],
   "source": [
    "# Use the random grid to search for best hyperparameters\n",
    "# First create the base model to tune\n",
    "rf = RandomForestRegressor()\n",
    "# Random search of parameters, using 3 fold cross validation, \n",
    "# search across 100 different combinations, and use all available cores\n",
    "rf_random = RandomizedSearchCV(estimator = rf, param_distributions = random_grid, n_iter = 100, cv = 3, verbose=2, random_state=42, n_jobs = -1)\n",
    "# Fit the random search model\n",
    "rf_random.fit(X_train, y_train)"
   ]
  },
  {
   "cell_type": "code",
   "execution_count": null,
   "id": "19debdb5",
   "metadata": {},
   "outputs": [],
   "source": [
    "#Best number of trees\n",
    "rf_random.best_estimator_"
   ]
  },
  {
   "cell_type": "markdown",
   "id": "1ce24760",
   "metadata": {},
   "source": [
    "RandomForestRegressor(max_depth=30, max_features='sqrt', min_samples_split=5,\n",
    "                      n_estimators=400)"
   ]
  },
  {
   "cell_type": "code",
   "execution_count": null,
   "id": "77074c3c",
   "metadata": {},
   "outputs": [],
   "source": [
    "y_hat = rf_random.predict(X_test)"
   ]
  },
  {
   "cell_type": "code",
   "execution_count": null,
   "id": "053cf974",
   "metadata": {},
   "outputs": [],
   "source": [
    "score2 = r2_score(y_test, y_hat)"
   ]
  },
  {
   "cell_type": "code",
   "execution_count": null,
   "id": "300fdcf1",
   "metadata": {},
   "outputs": [],
   "source": [
    "score2"
   ]
  },
  {
   "cell_type": "code",
   "execution_count": null,
   "id": "7953bc40",
   "metadata": {},
   "outputs": [],
   "source": [
    "print('Improvement of {:0.2f}%.'.format( 100 * (score2 - score) / score))"
   ]
  },
  {
   "cell_type": "markdown",
   "id": "fa0767fe",
   "metadata": {},
   "source": [
    "Improvement of 1.13%.\n"
   ]
  },
  {
   "cell_type": "markdown",
   "id": "e55778f1",
   "metadata": {},
   "source": [
    "base model has an accuracy of 87.3 %\n",
    "<br>tuned model imporved accuracy to 88.3 %"
   ]
  },
  {
   "cell_type": "markdown",
   "id": "76eb06d6",
   "metadata": {},
   "source": [
    "This model has more accuracy compared to other models"
   ]
  },
  {
   "cell_type": "code",
   "execution_count": null,
   "id": "0e61ed3e",
   "metadata": {},
   "outputs": [],
   "source": []
  }
 ],
 "metadata": {
  "kernelspec": {
   "display_name": "Python 3",
   "language": "python",
   "name": "python3"
  },
  "language_info": {
   "codemirror_mode": {
    "name": "ipython",
    "version": 3
   },
   "file_extension": ".py",
   "mimetype": "text/x-python",
   "name": "python",
   "nbconvert_exporter": "python",
   "pygments_lexer": "ipython3",
   "version": "3.8.8"
  }
 },
 "nbformat": 4,
 "nbformat_minor": 5
}
