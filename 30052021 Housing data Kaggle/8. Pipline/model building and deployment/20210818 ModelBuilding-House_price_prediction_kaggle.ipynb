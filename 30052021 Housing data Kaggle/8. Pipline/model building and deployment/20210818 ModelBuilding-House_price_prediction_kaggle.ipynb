{
 "cells": [
  {
   "cell_type": "markdown",
   "id": "663fdbd0",
   "metadata": {},
   "source": [
    "# Model building"
   ]
  },
  {
   "cell_type": "code",
   "execution_count": 1,
   "id": "d752b685",
   "metadata": {},
   "outputs": [],
   "source": [
    "import pandas as pd\n",
    "import numpy as np\n",
    "import matplotlib.pyplot as plt\n",
    "import seaborn as sns"
   ]
  },
  {
   "cell_type": "code",
   "execution_count": 2,
   "id": "162a6595",
   "metadata": {},
   "outputs": [],
   "source": [
    "path = \"C:\\\\Users\\\\cm\\\\Desktop\\\\deployed-\\\\30052021 Housing data Kaggle\\\\8. Pipline\\\\future selection\\\\X_train.csv\""
   ]
  },
  {
   "cell_type": "code",
   "execution_count": 3,
   "id": "ac7095d3",
   "metadata": {},
   "outputs": [],
   "source": [
    "X_train = pd.read_csv(path)"
   ]
  },
  {
   "cell_type": "code",
   "execution_count": 4,
   "id": "86af6a0c",
   "metadata": {},
   "outputs": [
    {
     "data": {
      "text/html": [
       "<div>\n",
       "<style scoped>\n",
       "    .dataframe tbody tr th:only-of-type {\n",
       "        vertical-align: middle;\n",
       "    }\n",
       "\n",
       "    .dataframe tbody tr th {\n",
       "        vertical-align: top;\n",
       "    }\n",
       "\n",
       "    .dataframe thead th {\n",
       "        text-align: right;\n",
       "    }\n",
       "</style>\n",
       "<table border=\"1\" class=\"dataframe\">\n",
       "  <thead>\n",
       "    <tr style=\"text-align: right;\">\n",
       "      <th></th>\n",
       "      <th>MSSubClass</th>\n",
       "      <th>LotFrontage</th>\n",
       "      <th>Neighborhood</th>\n",
       "      <th>OverallQual</th>\n",
       "      <th>YearBuilt</th>\n",
       "      <th>YearRemodAdd</th>\n",
       "      <th>ExterQual</th>\n",
       "      <th>BsmtQual</th>\n",
       "      <th>TotalBsmtSF</th>\n",
       "      <th>2ndFlrSF</th>\n",
       "      <th>GrLivArea</th>\n",
       "      <th>FullBath</th>\n",
       "      <th>KitchenQual</th>\n",
       "      <th>GarageFinish</th>\n",
       "      <th>GarageCars</th>\n",
       "    </tr>\n",
       "  </thead>\n",
       "  <tbody>\n",
       "    <tr>\n",
       "      <th>0</th>\n",
       "      <td>0.235294</td>\n",
       "      <td>0.418208</td>\n",
       "      <td>0.663677</td>\n",
       "      <td>0.666667</td>\n",
       "      <td>0.949275</td>\n",
       "      <td>0.883333</td>\n",
       "      <td>0.53139</td>\n",
       "      <td>0.949511</td>\n",
       "      <td>0.140098</td>\n",
       "      <td>0.413559</td>\n",
       "      <td>0.577712</td>\n",
       "      <td>0.666667</td>\n",
       "      <td>0.78592</td>\n",
       "      <td>0.650763</td>\n",
       "      <td>0.50</td>\n",
       "    </tr>\n",
       "    <tr>\n",
       "      <th>1</th>\n",
       "      <td>0.000000</td>\n",
       "      <td>0.495064</td>\n",
       "      <td>0.040359</td>\n",
       "      <td>0.555556</td>\n",
       "      <td>0.753623</td>\n",
       "      <td>0.433333</td>\n",
       "      <td>1.00000</td>\n",
       "      <td>0.949511</td>\n",
       "      <td>0.206547</td>\n",
       "      <td>0.000000</td>\n",
       "      <td>0.470245</td>\n",
       "      <td>0.666667</td>\n",
       "      <td>1.00000</td>\n",
       "      <td>0.650763</td>\n",
       "      <td>0.50</td>\n",
       "    </tr>\n",
       "    <tr>\n",
       "      <th>2</th>\n",
       "      <td>0.235294</td>\n",
       "      <td>0.434909</td>\n",
       "      <td>0.663677</td>\n",
       "      <td>0.666667</td>\n",
       "      <td>0.934783</td>\n",
       "      <td>0.866667</td>\n",
       "      <td>0.53139</td>\n",
       "      <td>0.949511</td>\n",
       "      <td>0.150573</td>\n",
       "      <td>0.419370</td>\n",
       "      <td>0.593095</td>\n",
       "      <td>0.666667</td>\n",
       "      <td>0.78592</td>\n",
       "      <td>0.650763</td>\n",
       "      <td>0.50</td>\n",
       "    </tr>\n",
       "    <tr>\n",
       "      <th>3</th>\n",
       "      <td>0.294118</td>\n",
       "      <td>0.388581</td>\n",
       "      <td>0.219731</td>\n",
       "      <td>0.666667</td>\n",
       "      <td>0.311594</td>\n",
       "      <td>0.333333</td>\n",
       "      <td>1.00000</td>\n",
       "      <td>1.000000</td>\n",
       "      <td>0.123732</td>\n",
       "      <td>0.366102</td>\n",
       "      <td>0.579157</td>\n",
       "      <td>0.333333</td>\n",
       "      <td>0.78592</td>\n",
       "      <td>1.000000</td>\n",
       "      <td>0.75</td>\n",
       "    </tr>\n",
       "    <tr>\n",
       "      <th>4</th>\n",
       "      <td>0.235294</td>\n",
       "      <td>0.513123</td>\n",
       "      <td>0.174888</td>\n",
       "      <td>0.777778</td>\n",
       "      <td>0.927536</td>\n",
       "      <td>0.833333</td>\n",
       "      <td>0.53139</td>\n",
       "      <td>0.949511</td>\n",
       "      <td>0.187398</td>\n",
       "      <td>0.509927</td>\n",
       "      <td>0.666523</td>\n",
       "      <td>0.666667</td>\n",
       "      <td>0.78592</td>\n",
       "      <td>0.650763</td>\n",
       "      <td>0.75</td>\n",
       "    </tr>\n",
       "  </tbody>\n",
       "</table>\n",
       "</div>"
      ],
      "text/plain": [
       "   MSSubClass  LotFrontage  Neighborhood  OverallQual  YearBuilt  \\\n",
       "0    0.235294     0.418208      0.663677     0.666667   0.949275   \n",
       "1    0.000000     0.495064      0.040359     0.555556   0.753623   \n",
       "2    0.235294     0.434909      0.663677     0.666667   0.934783   \n",
       "3    0.294118     0.388581      0.219731     0.666667   0.311594   \n",
       "4    0.235294     0.513123      0.174888     0.777778   0.927536   \n",
       "\n",
       "   YearRemodAdd  ExterQual  BsmtQual  TotalBsmtSF  2ndFlrSF  GrLivArea  \\\n",
       "0      0.883333    0.53139  0.949511     0.140098  0.413559   0.577712   \n",
       "1      0.433333    1.00000  0.949511     0.206547  0.000000   0.470245   \n",
       "2      0.866667    0.53139  0.949511     0.150573  0.419370   0.593095   \n",
       "3      0.333333    1.00000  1.000000     0.123732  0.366102   0.579157   \n",
       "4      0.833333    0.53139  0.949511     0.187398  0.509927   0.666523   \n",
       "\n",
       "   FullBath  KitchenQual  GarageFinish  GarageCars  \n",
       "0  0.666667      0.78592      0.650763        0.50  \n",
       "1  0.666667      1.00000      0.650763        0.50  \n",
       "2  0.666667      0.78592      0.650763        0.50  \n",
       "3  0.333333      0.78592      1.000000        0.75  \n",
       "4  0.666667      0.78592      0.650763        0.75  "
      ]
     },
     "execution_count": 4,
     "metadata": {},
     "output_type": "execute_result"
    }
   ],
   "source": [
    "X_train.head()"
   ]
  },
  {
   "cell_type": "code",
   "execution_count": 8,
   "id": "839130e8",
   "metadata": {},
   "outputs": [
    {
     "data": {
      "text/plain": [
       "(1460, 15)"
      ]
     },
     "execution_count": 8,
     "metadata": {},
     "output_type": "execute_result"
    }
   ],
   "source": [
    "X_train.shape"
   ]
  },
  {
   "cell_type": "code",
   "execution_count": 5,
   "id": "a50dcc80",
   "metadata": {},
   "outputs": [],
   "source": [
    "ypath = \"C:\\\\Users\\\\cm\\\\Desktop\\\\deployed-\\\\30052021 Housing data Kaggle\\\\8. Pipline\\\\future selection\\\\y_train.csv\""
   ]
  },
  {
   "cell_type": "code",
   "execution_count": 6,
   "id": "009a9b9e",
   "metadata": {},
   "outputs": [],
   "source": [
    "y_train = pd.read_csv(ypath)"
   ]
  },
  {
   "cell_type": "code",
   "execution_count": 7,
   "id": "3fac4a95",
   "metadata": {},
   "outputs": [
    {
     "data": {
      "text/plain": [
       "(1460, 1)"
      ]
     },
     "execution_count": 7,
     "metadata": {},
     "output_type": "execute_result"
    }
   ],
   "source": [
    "y_train.shape"
   ]
  },
  {
   "cell_type": "code",
   "execution_count": null,
   "id": "30c01818",
   "metadata": {},
   "outputs": [],
   "source": []
  }
 ],
 "metadata": {
  "kernelspec": {
   "display_name": "Python 3",
   "language": "python",
   "name": "python3"
  },
  "language_info": {
   "codemirror_mode": {
    "name": "ipython",
    "version": 3
   },
   "file_extension": ".py",
   "mimetype": "text/x-python",
   "name": "python",
   "nbconvert_exporter": "python",
   "pygments_lexer": "ipython3",
   "version": "3.8.8"
  }
 },
 "nbformat": 4,
 "nbformat_minor": 5
}
